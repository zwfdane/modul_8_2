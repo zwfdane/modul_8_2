{
 "cells": [
  {
   "cell_type": "markdown",
   "id": "ed6194b1",
   "metadata": {},
   "source": [
    "# Praca z arkuszami Microsoft Excel\n"
   ]
  },
  {
   "cell_type": "raw",
   "id": "6c1788c1",
   "metadata": {},
   "source": [
    "Pandas umożliwia szybki odczyt i zapis plików do większości formatów, z których korzystamy w procesie analizy danych. W tym rozdziale omówimy pracę z plikami typu CSV i Excel. Pokażemy również sposób na wczytywanie danych prosto z tabeli HTML, a także jak pracować z danymi przechowywanymi w relacyjnej bazie danych SQL."
   ]
  },
  {
   "cell_type": "markdown",
   "id": "a1123873",
   "metadata": {},
   "source": [
    "## Pliki csv "
   ]
  },
  {
   "cell_type": "raw",
   "id": "d8b2f183",
   "metadata": {},
   "source": [
    "W celu wczytania danych z pliku csv, bezpośrednio do obiektu DataFrame, wystarczy użyć funkcji read_csv."
   ]
  },
  {
   "cell_type": "code",
   "execution_count": 7,
   "id": "2228e268",
   "metadata": {},
   "outputs": [],
   "source": [
    "import pandas as pd\n",
    "# df = pd.read_csv('myCsvFile.csv') - brak pliku "
   ]
  },
  {
   "cell_type": "raw",
   "id": "93c04be0",
   "metadata": {},
   "source": [
    "Eksport do pliku csv polega na wywołaniu funkcji to_csv na obiekcie typu DataFrame."
   ]
  },
  {
   "cell_type": "code",
   "execution_count": 6,
   "id": "0e9ca66d",
   "metadata": {},
   "outputs": [],
   "source": [
    "# df.to_csv('myNewCsvFile.csv', index=False)"
   ]
  },
  {
   "cell_type": "raw",
   "id": "1fe66f97",
   "metadata": {},
   "source": [
    "Dodanie na końcu komendy index=False jest opcjonalne. Pozwala to jednak na eksport do formatu csv bez uwzględniania etykiet indeksu."
   ]
  },
  {
   "cell_type": "markdown",
   "id": "378cdb2a",
   "metadata": {},
   "source": [
    "## Praca z plikami Excel"
   ]
  },
  {
   "cell_type": "raw",
   "id": "7aa4beab",
   "metadata": {},
   "source": [
    "Podstawowy odczyt i zapis do plików Excel działa bardzo podobnie, jak w przypadku plików csv. Możesz pobrać przykładowy plik. Dane do DataFrame wczytujemy w następujący sposób:"
   ]
  },
  {
   "cell_type": "code",
   "execution_count": 7,
   "id": "f3b6d6ba",
   "metadata": {},
   "outputs": [],
   "source": [
    "import pandas as pd\n",
    "df = pd.read_excel('myExcelFile.xlsx', sheet_name='my_data')"
   ]
  },
  {
   "cell_type": "raw",
   "id": "0e467f8e",
   "metadata": {},
   "source": [
    "Wprowadzenie parametru określającego nazwę zakładki, z której Pandas postara się pobrać dane, jest opcjonalne. Domyślnie wczytana będzie zawartość pierwszej zakładki.\n",
    "\n",
    "Eksport do pliku Excel wykonujemy, wykorzystując funkcję to_excel."
   ]
  },
  {
   "cell_type": "code",
   "execution_count": 9,
   "id": "07a17397",
   "metadata": {},
   "outputs": [],
   "source": [
    "# df = pd.to_excel('myNewExcelFile.xlsx', sheet_name='my_new_data') -- błędny kod\n",
    "df.to_excel('myNewExcelFile.xlsx', sheet_name='my_new_data')"
   ]
  },
  {
   "cell_type": "raw",
   "id": "e59b4da6",
   "metadata": {},
   "source": [
    "Bardziej zaawansowane operacje na plikach MS Excel możemy wykonać dzięki silnikowi XlsxWriter.\n",
    "\n",
    "\n",
    "UWAGA\n",
    "\n",
    "Aby przykłady zaprezentowane poniżej działały poprawnie, musisz mieć zainstalowany pakiet Office z programem Microsoft Excel.\n",
    "\n",
    "Standardowy zapis DataFrame do skoroszytu Excel wypełnia kolejne komórki we wskazanej zakładce, rozpoczynając od A1. Korzystając z silnika XlsxWriter, możemy korzystać z całej długości i szerokości arkusza w celu zapisywania i formatowania danych w niemalże dowolny sposób.\n",
    "\n",
    "W pierwszym przykładzie zapiszemy dwa razy tę samą tabelę do tej samej zakładki arkusza Excel.\n",
    "\n",
    "Na początek stworzymy obiekt ExcelWriter, w którym sprecyzujemy nazwę pliku oraz silnik, którego chcemy używać.\n"
   ]
  },
  {
   "cell_type": "code",
   "execution_count": 14,
   "id": "907a214e",
   "metadata": {},
   "outputs": [],
   "source": [
    "writer = pd.ExcelWriter('pandas_simple.xlsx', engine='xlsxwriter')"
   ]
  },
  {
   "cell_type": "raw",
   "id": "9bbe86da",
   "metadata": {},
   "source": [
    "Do obiektu przypisanego do zmiennej writer będziemy odwoływać się, zapisując kolejne DataFrame do arkusza."
   ]
  },
  {
   "cell_type": "code",
   "execution_count": 15,
   "id": "84fccc00",
   "metadata": {},
   "outputs": [],
   "source": [
    "df.to_excel(writer, sheet_name='my_dfs')\n",
    "df.to_excel(writer, sheet_name='my_dfs', startcol=6, startrow=5, index=False)"
   ]
  },
  {
   "cell_type": "raw",
   "id": "9b2dc0ac",
   "metadata": {},
   "source": [
    "Nie dodając dodatkowych parametrów związanych z pozycją tabeli przypisanej do zmiennej df, możemy spodziewać się, zostanie zapisana w arkuszu, rozpoczynając od komórki A1. Zapisując drugi raz tabelę df, korzystając z parametrów startcol oraz startrow dajemy dodatkowe instrukcje co do miejsca, w którym ma znaleźć się output.\n",
    "\n",
    "Na koniec zapisujemy plik przy użyciu komendy:"
   ]
  },
  {
   "cell_type": "code",
   "execution_count": 16,
   "id": "4a161c65",
   "metadata": {},
   "outputs": [],
   "source": [
    "writer.save()"
   ]
  },
  {
   "cell_type": "raw",
   "id": "cf6ca586",
   "metadata": {},
   "source": [
    "W podobny sposób możemy zapisywać dane do różnych zakładek tego samego pliku:"
   ]
  },
  {
   "cell_type": "code",
   "execution_count": 17,
   "id": "7dcea7b5",
   "metadata": {},
   "outputs": [],
   "source": [
    "writer = pd.ExcelWriter('many_sheets.xlsx', engine='xlsxwriter')\n",
    "\n",
    "df.to_excel(writer, sheet_name='my_df1')\n",
    "df.to_excel(writer, sheet_name='my_df2')\n",
    "\n",
    "writer.save()"
   ]
  },
  {
   "cell_type": "raw",
   "id": "d4fd2480",
   "metadata": {},
   "source": [
    "Jak wspomnieliśmy, XlsxWriter umożliwia nam operowanie na skoroszycie MS Excel w bardzo rozbudowany sposób. W kolejnym przykładzie dodamy do pliku wykres w całości z poziomu Pythona.\n",
    "\n",
    "Rozpoczynamy w poznany już wcześniej sposób od zdefiniowania ExcelWriter i zapisania tabeli do nowej zakładki."
   ]
  },
  {
   "cell_type": "code",
   "execution_count": 18,
   "id": "088e3275",
   "metadata": {},
   "outputs": [],
   "source": [
    "writer = pd.ExcelWriter('add_chart.xlsx', engine='xlsxwriter')\n",
    "df.to_excel(writer, sheet_name='my_chart')"
   ]
  },
  {
   "cell_type": "raw",
   "id": "1c3926b3",
   "metadata": {},
   "source": [
    "W celu wykreowania wykresu musimy stworzyć obiekty typu Workbook oraz Worksheet."
   ]
  },
  {
   "cell_type": "code",
   "execution_count": 19,
   "id": "ebc3ce57",
   "metadata": {},
   "outputs": [],
   "source": [
    "workbook = writer.book\n",
    "worksheet = writer.sheets['my_chart']"
   ]
  },
  {
   "cell_type": "raw",
   "id": "e5631be5",
   "metadata": {},
   "source": [
    "Następnie, z poziomu Workbooka tworzymy obiekt Chart, definiując od razu, jakiego typu ma być to wykres. Możemy skorzystać z następujących rodzajów:\n",
    "\n",
    "    area: wykres powierzchniowy.\n",
    "    bar: wykres słupkowy (poziomy).\n",
    "    column: wykres kolumnowy.\n",
    "    line: wykres liniowy.\n",
    "    pie: wykres kołowy.\n",
    "    doughnut: wykres pierścieniowy.\n",
    "    scatter: wykres punktowy.\n",
    "    stock: wykres ‘giełdowy’.\n",
    "    radar: wykres typu radar.\n",
    "\n",
    "W naszym przykładzie stworzymy wykres z danych umieszczonych w kolumnie B, dlatego najlepszym rozwiązaniem będzie wykres liniowy."
   ]
  },
  {
   "cell_type": "code",
   "execution_count": 20,
   "id": "d1f693dc",
   "metadata": {},
   "outputs": [],
   "source": [
    "chart = workbook.add_chart({'type':'line'})"
   ]
  },
  {
   "cell_type": "raw",
   "id": "0d9d89a5",
   "metadata": {},
   "source": [
    "Ponieważ w tym momencie pracujemy już w skoroszycie, aby wybrać wartości na wykresie, musimy wskazać zakres komórek, tak, jak gdybyśmy robili to ręcznie w arkuszu.\n",
    "\n",
    "Napiszmy funkcję, która tworzy zakres na podstawie kolumny, którą chcemy użyć jako wartości wykresu."
   ]
  },
  {
   "cell_type": "code",
   "execution_count": 21,
   "id": "4bbb6cae",
   "metadata": {},
   "outputs": [],
   "source": [
    "def grab_series(df, sheet_name, colname, startcol=0, startrow=0):\n",
    "\n",
    "    col_index = df.columns.tolist().index(colname)\n",
    "    col_letter = chr(ord('@')+(col_index+2+startcol))\n",
    "    first_row = startrow + 2\n",
    "    last_row = startrow + 1 + len(df)\n",
    "    return f\"='{sheet_name}'!{col_letter}{first_row}:{col_letter}{last_row}\""
   ]
  },
  {
   "cell_type": "raw",
   "id": "1c6a4800",
   "metadata": {},
   "source": [
    "Teraz do obiektu chart możemy dodać serię wartości:"
   ]
  },
  {
   "cell_type": "code",
   "execution_count": 23,
   "id": "cd3699cf",
   "metadata": {},
   "outputs": [],
   "source": [
    "# chart.add_series({'values':grab_series(df,'my_chart','B')}) -- brak kolumny \"B\"\n",
    "chart.add_series({'values':grab_series(df,'my_chart','Lp.')})"
   ]
  },
  {
   "cell_type": "raw",
   "id": "6721417f",
   "metadata": {},
   "source": [
    "Jeśli nasz wykres nabrał już pierwszych kształtów, możemy sformatować go wedle uznania. Na pewno będziemy chcieli zająć się osią X: wprowadzimy jej nazwę, zmienimy rozmiar oraz grubość czcionki; poza tym będziemy chcieli, aby wartości na osi X były wydrukowane pochyloną czcionką."
   ]
  },
  {
   "cell_type": "code",
   "execution_count": 24,
   "id": "d138a3ed",
   "metadata": {},
   "outputs": [],
   "source": [
    "chart.set_x_axis({\n",
    "    'name': 'x^2',\n",
    "    'name_font': {'size': 14, 'bold': True},\n",
    "    'num_font':  {'italic': True },\n",
    "})"
   ]
  },
  {
   "cell_type": "raw",
   "id": "e5e4a763",
   "metadata": {},
   "source": [
    "Ponieważ nadaliśmy już nazwę osi X, a nasz wykres zawiera tylko jedną serię – dobrym pomysłem będzie pozbycie się legendy, która domyślnie zawsze pojawia się na wykresie. W tym celu wystarczy wprowadzić polecenie:"
   ]
  },
  {
   "cell_type": "code",
   "execution_count": 25,
   "id": "c89bb352",
   "metadata": {},
   "outputs": [],
   "source": [
    "chart.set_legend({'none': True})"
   ]
  },
  {
   "cell_type": "raw",
   "id": "20032012",
   "metadata": {},
   "source": [
    "Zakończyliśmy pracę nad wykresem, zatem kolejnym krokiem jest umieszczenie go w wybranym miejscu arkusza, w którym pracujemy. Wcześniej stworzyliśmy obiekt worksheet, który posłuży nam do osadzenia wykresu w pliku."
   ]
  },
  {
   "cell_type": "code",
   "execution_count": 27,
   "id": "9aeee100",
   "metadata": {},
   "outputs": [
    {
     "name": "stderr",
     "output_type": "stream",
     "text": [
      "C:\\ProgramData\\Anaconda3\\lib\\site-packages\\xlsxwriter\\worksheet.py:1515: UserWarning: Chart cannot be inserted in a worksheet more than once.\n",
      "  warn('Chart cannot be inserted in a worksheet more than once.')\n"
     ]
    }
   ],
   "source": [
    "# worksheet.insert_chart('F2', chart)-- nie działa\n",
    "worksheet.insert_chart('K2', chart)"
   ]
  },
  {
   "cell_type": "raw",
   "id": "e521670a",
   "metadata": {},
   "source": [
    "W taki oto sposób udało nam się zapisać tabelę i stworzyć do niej wykres bez ręcznej pracy w Excelu. Oczywiście, silnik XlsxWriter umożliwia bardziej zaawansowane formatowanie. Zachęcamy do zapoznania się z dokumentacją.\n",
    "\n",
    "W kolejnym przykładzie stworzymy plik, który zawierał będzie w sobie formatowanie warunkowe na komórkach przechowujących wartość z wyeksportowanej przez nas tabeli oraz komórkę przyjmującą jedynie wartości będące liczbami całkowitymi większymi od zera.\n",
    "\n",
    "Rozpoczniemy tak, jak ostatnio, od stworzenia trzech podstawowych obiektów i wyeksportowania DataFrame:"
   ]
  },
  {
   "cell_type": "code",
   "execution_count": 28,
   "id": "38de6f57",
   "metadata": {},
   "outputs": [],
   "source": [
    "writer = pd.ExcelWriter('conditional_format.xlsx', engine='xlsxwriter')\n",
    "\n",
    "df.to_excel(writer, sheet_name='my_conditional')\n",
    "\n",
    "workbook = writer.book\n",
    "worksheet = writer.sheets['my_conditional']"
   ]
  },
  {
   "cell_type": "raw",
   "id": "62dad874",
   "metadata": {},
   "source": [
    "Będziemy chcieli wzbogacić ostatnią kolumnę wyeksportowanej tabeli o formatowanie warunkowe dla wartości powyżej liczby 300. W tym celu musimy ustalić jaki format przybiorą komórki spełniające warunek.\n",
    "\n",
    "Stworzymy nasz własny format w tym skoroszycie, korzystając z metody add_format."
   ]
  },
  {
   "cell_type": "code",
   "execution_count": 29,
   "id": "282ef293",
   "metadata": {},
   "outputs": [],
   "source": [
    "format1 = workbook.add_format({'bg_color':   '#FFC7CE',\n",
    "                               'font_color': '#9C0006'})"
   ]
  },
  {
   "cell_type": "raw",
   "id": "d736adb9",
   "metadata": {},
   "source": [
    "W końcu możemy ustawić formatowanie warunkowe:"
   ]
  },
  {
   "cell_type": "code",
   "execution_count": 30,
   "id": "94a568d4",
   "metadata": {},
   "outputs": [
    {
     "data": {
      "text/plain": [
       "0"
      ]
     },
     "execution_count": 30,
     "metadata": {},
     "output_type": "execute_result"
    }
   ],
   "source": [
    "worksheet.conditional_format(\"D2:D12\",{'type': 'cell',\n",
    "                                      'criteria':'>=',\n",
    "                                      'value':300,\n",
    "                                      'format':format1})"
   ]
  },
  {
   "cell_type": "raw",
   "id": "697143f6",
   "metadata": {},
   "source": [
    "Korzystamy z funkcji conditional_format dostępnej z obiektu worksheet. Na początku wskazujemy zakres komórek, którego ma dotyczyć formatowanie, a następnie wprowadzamy wszystkie parametry formatowania warunkowego.\n",
    "\n",
    "W środowisku MS Excel mamy możliwość wyboru z wielu wbudowanych rodzajów/schematów formatowania warunkowego. Nas interesuje formatowanie na podstawie porównania do stałej wartości, będziemy bowiem sprawdzać, które komórki mają wartość większą od liczby 300. Z tego powodu parametr type przyjmuje w przykładzie wartość cell. To z kolei implikuje ilość i rodzaj pozostałych parametrów do uzupełnienia.\n",
    "\n",
    "Dla typu formatowania warunkowego cell możemy doprecyzować: criteria, value, minimum, maximum oraz format.\n",
    "\n",
    "Po ustawieniu formatowania warunkowego zajmiemy się dodaniem jeszcze jednej funkcjonalności – walidacji danych.\n",
    "\n",
    "W komórce A16 wprowadzimy wartość tekstową o treści “Podaj liczbę całkowitą większą od 0:”."
   ]
  },
  {
   "cell_type": "code",
   "execution_count": 31,
   "id": "13b0444f",
   "metadata": {},
   "outputs": [
    {
     "data": {
      "text/plain": [
       "0"
      ]
     },
     "execution_count": 31,
     "metadata": {},
     "output_type": "execute_result"
    }
   ],
   "source": [
    "worksheet.write_string('A16','Podaj liczbę całkowitą większą od 0:')"
   ]
  },
  {
   "cell_type": "code",
   "execution_count": null,
   "id": "81926152",
   "metadata": {},
   "outputs": [],
   "source": []
  },
  {
   "cell_type": "raw",
   "id": "343b52f6",
   "metadata": {},
   "source": [
    "Jeśli w odpowiedzi dostaniemy wartość 0 – oznaczać to będzie, że wszystko poszło dobrze. Wartość (-1) pojawi się, jeśli wprowadzony zakres wykracza poza obszar arkusza, a (-2) będzie oznaczać, że wartość tekstowa została skrócona do 32 tysięcy znaków.\n",
    "\n",
    "W komórce obok, tj. B16, wprowadzimy teraz zasadę walidującą, zezwalającą na wprowadzanie do niej wyłącznie liczb całkowitych większych od 0."
   ]
  },
  {
   "cell_type": "code",
   "execution_count": 32,
   "id": "c649f8ff",
   "metadata": {},
   "outputs": [
    {
     "data": {
      "text/plain": [
       "0"
      ]
     },
     "execution_count": 32,
     "metadata": {},
     "output_type": "execute_result"
    }
   ],
   "source": [
    "worksheet.data_validation('B16', {\n",
    "    'validate':'integer',\n",
    "    'criteria':'>',\n",
    "    'value':0\n",
    "})"
   ]
  },
  {
   "cell_type": "raw",
   "id": "6dfc3eb0",
   "metadata": {},
   "source": [
    "Poza testowaniem czy wprowadzana wartość jest liczbą całkowitą, możemy wykorzystać również inne opcje:\n",
    "\n",
    "    decimal: ogranicza wartość komórki do liczb rzeczywistych.\n",
    "    list: ogranicza wartość komórki do listy wybranej przez użytkownika. Lista może być wprowadzona w postaci listy znanej z Pythona lub odniesienia do komórek w arkuszu.\n",
    "    date: ogranicza wartość komórki do poprawnie wprowadzonych dat.\n",
    "    time: ogranicza wartość komórki do obiektów datetime.\n",
    "    length: wyznacza górną granicę długości ciągu tekstowego.\n",
    "    custom: ogranicza możliwe wartości do tych, które spełniają wskazany warunek logiczny.\n",
    "\n",
    "Ponieważ wcześniej wprowadziliśmy do komórki A16 długi ciąg znaków, dobrym pomysłem będzie rozszerzenie kolumny A, tak aby wartości w niej zawarte na pewno były widoczne dla użytkownika"
   ]
  },
  {
   "cell_type": "code",
   "execution_count": 33,
   "id": "f0700fb3",
   "metadata": {},
   "outputs": [
    {
     "data": {
      "text/plain": [
       "0"
      ]
     },
     "execution_count": 33,
     "metadata": {},
     "output_type": "execute_result"
    }
   ],
   "source": [
    "worksheet.set_column('A:A',35)"
   ]
  },
  {
   "cell_type": "raw",
   "id": "c54daeae",
   "metadata": {},
   "source": [
    "Na koniec zapisujemy i zamykamy plik."
   ]
  },
  {
   "cell_type": "code",
   "execution_count": 34,
   "id": "65440704",
   "metadata": {},
   "outputs": [
    {
     "name": "stderr",
     "output_type": "stream",
     "text": [
      "C:\\ProgramData\\Anaconda3\\lib\\site-packages\\xlsxwriter\\workbook.py:339: UserWarning: Calling close() on already closed file.\n",
      "  warn(\"Calling close() on already closed file.\")\n"
     ]
    }
   ],
   "source": [
    "writer.save()\n",
    "workbook.close()"
   ]
  },
  {
   "cell_type": "raw",
   "id": "9fbbac74",
   "metadata": {},
   "source": [
    "Na pierwszy rzut oka widać, że formatowanie warunkowe działa tak, jak powinno. Podświetlane na czerwono są wszystkie wartości większe lub równe 300. Kolumna A jest odpowiednio rozszerzona. Pozostaje sprawdzić, czy komórka B16 przyjmuje wartości inne niż sprecyzowane w warunkach walidacji.\n",
    "\n",
    "Jak widać, próba wprowadzenia wartości niezgodnej ze specyfikacją owocuje pojawieniem się blokady oraz odpowiedniej informacji ze strony MS Excel."
   ]
  },
  {
   "cell_type": "markdown",
   "id": "65e9cee7",
   "metadata": {},
   "source": [
    "## Tabele HTML"
   ]
  },
  {
   "cell_type": "raw",
   "id": "85906246",
   "metadata": {},
   "source": [
    "Dzięki funkcji read_html możemy w większości przypadków szybko wprowadzać dane znalezione w internecie do obiektu DataFrame.\n",
    "\n",
    "Na stronie Miasta w Polsce widzimy dwie tabele zestawiające największe miejscowości pod kątem liczby ludności oraz powierzchni. Spróbujemy wykorzystać funkcję read_html, aby wczytać je do naszego projektu."
   ]
  },
  {
   "cell_type": "raw",
   "id": "5902813d",
   "metadata": {},
   "source": [
    "Skopiujmy link do witryny zawierającej docelowe tabele i wklejmy go jako pierwszy argument funkcji."
   ]
  },
  {
   "cell_type": "code",
   "execution_count": 35,
   "id": "6ade06c6",
   "metadata": {},
   "outputs": [],
   "source": [
    "data = pd.read_html('https://pl.wikipedia.org/wiki/Miasta_w_Polsce', header=0)"
   ]
  },
  {
   "cell_type": "code",
   "execution_count": null,
   "id": "020294f5",
   "metadata": {},
   "outputs": [],
   "source": []
  },
  {
   "cell_type": "raw",
   "id": "1cea2edd",
   "metadata": {},
   "source": [
    "Na razie nie mamy jeszcze obiektu DataFrame. Jeśli odpytamy zmienną data o jej typ, dostaniemy informację, że mamy do czynienia z listą:"
   ]
  },
  {
   "cell_type": "code",
   "execution_count": 36,
   "id": "60d7c85a",
   "metadata": {},
   "outputs": [
    {
     "data": {
      "text/plain": [
       "list"
      ]
     },
     "execution_count": 36,
     "metadata": {},
     "output_type": "execute_result"
    }
   ],
   "source": [
    "type(data)"
   ]
  },
  {
   "cell_type": "raw",
   "id": "44d8c767",
   "metadata": {},
   "source": [
    "Wywołując funkcję read_html, Pandas pobrał zawartość strony kryjącą się pod wskazanym przez nas adresem i wyciągnął z niej wszystkie tabele oznaczone tagiem table.\n",
    "\n",
    "Jeśli zatem wywołamy pierwszy element listy:"
   ]
  },
  {
   "cell_type": "code",
   "execution_count": 37,
   "id": "c262c510",
   "metadata": {},
   "outputs": [
    {
     "data": {
      "text/html": [
       "<div>\n",
       "<style scoped>\n",
       "    .dataframe tbody tr th:only-of-type {\n",
       "        vertical-align: middle;\n",
       "    }\n",
       "\n",
       "    .dataframe tbody tr th {\n",
       "        vertical-align: top;\n",
       "    }\n",
       "\n",
       "    .dataframe thead th {\n",
       "        text-align: right;\n",
       "    }\n",
       "</style>\n",
       "<table border=\"1\" class=\"dataframe\">\n",
       "  <thead>\n",
       "    <tr style=\"text-align: right;\">\n",
       "      <th></th>\n",
       "      <th>Lp.</th>\n",
       "      <th>Miasto</th>\n",
       "      <th>Województwo</th>\n",
       "      <th>Liczbamieszkańców</th>\n",
       "      <th>Gęstość zaludnienia [osoby/km²]</th>\n",
       "    </tr>\n",
       "  </thead>\n",
       "  <tbody>\n",
       "    <tr>\n",
       "      <th>0</th>\n",
       "      <td>1.0</td>\n",
       "      <td>Warszawa</td>\n",
       "      <td>mazowieckie</td>\n",
       "      <td>1 793 579</td>\n",
       "      <td>3437</td>\n",
       "    </tr>\n",
       "    <tr>\n",
       "      <th>1</th>\n",
       "      <td>2.0</td>\n",
       "      <td>Kraków</td>\n",
       "      <td>małopolskie</td>\n",
       "      <td>780 981</td>\n",
       "      <td>2359</td>\n",
       "    </tr>\n",
       "    <tr>\n",
       "      <th>2</th>\n",
       "      <td>3.0</td>\n",
       "      <td>Łódź</td>\n",
       "      <td>łódzkie</td>\n",
       "      <td>677 286</td>\n",
       "      <td>2337</td>\n",
       "    </tr>\n",
       "    <tr>\n",
       "      <th>3</th>\n",
       "      <td>4.0</td>\n",
       "      <td>Wrocław</td>\n",
       "      <td>dolnośląskie</td>\n",
       "      <td>643 782</td>\n",
       "      <td>2188</td>\n",
       "    </tr>\n",
       "    <tr>\n",
       "      <th>4</th>\n",
       "      <td>5.0</td>\n",
       "      <td>Poznań</td>\n",
       "      <td>wielkopolskie</td>\n",
       "      <td>533 830</td>\n",
       "      <td>2048</td>\n",
       "    </tr>\n",
       "    <tr>\n",
       "      <th>5</th>\n",
       "      <td>6.0</td>\n",
       "      <td>Gdańsk</td>\n",
       "      <td>pomorskie</td>\n",
       "      <td>471 525</td>\n",
       "      <td>1781</td>\n",
       "    </tr>\n",
       "    <tr>\n",
       "      <th>6</th>\n",
       "      <td>7.0</td>\n",
       "      <td>Szczecin</td>\n",
       "      <td>zachodniopomorskie</td>\n",
       "      <td>400 990</td>\n",
       "      <td>1339</td>\n",
       "    </tr>\n",
       "    <tr>\n",
       "      <th>7</th>\n",
       "      <td>8.0</td>\n",
       "      <td>Bydgoszcz</td>\n",
       "      <td>kujawsko-pomorskie</td>\n",
       "      <td>346 739</td>\n",
       "      <td>1990</td>\n",
       "    </tr>\n",
       "    <tr>\n",
       "      <th>8</th>\n",
       "      <td>9.0</td>\n",
       "      <td>Lublin</td>\n",
       "      <td>lubelskie</td>\n",
       "      <td>339 547</td>\n",
       "      <td>2303</td>\n",
       "    </tr>\n",
       "    <tr>\n",
       "      <th>9</th>\n",
       "      <td>10.0</td>\n",
       "      <td>Białystok</td>\n",
       "      <td>podlaskie</td>\n",
       "      <td>297 585</td>\n",
       "      <td>2913</td>\n",
       "    </tr>\n",
       "  </tbody>\n",
       "</table>\n",
       "</div>"
      ],
      "text/plain": [
       "    Lp.     Miasto         Województwo Liczbamieszkańców  \\\n",
       "0   1.0   Warszawa         mazowieckie         1 793 579   \n",
       "1   2.0     Kraków         małopolskie           780 981   \n",
       "2   3.0       Łódź             łódzkie           677 286   \n",
       "3   4.0    Wrocław        dolnośląskie           643 782   \n",
       "4   5.0     Poznań       wielkopolskie           533 830   \n",
       "5   6.0     Gdańsk           pomorskie           471 525   \n",
       "6   7.0   Szczecin  zachodniopomorskie           400 990   \n",
       "7   8.0  Bydgoszcz  kujawsko-pomorskie           346 739   \n",
       "8   9.0     Lublin           lubelskie           339 547   \n",
       "9  10.0  Białystok           podlaskie           297 585   \n",
       "\n",
       "   Gęstość zaludnienia [osoby/km²]  \n",
       "0                             3437  \n",
       "1                             2359  \n",
       "2                             2337  \n",
       "3                             2188  \n",
       "4                             2048  \n",
       "5                             1781  \n",
       "6                             1339  \n",
       "7                             1990  \n",
       "8                             2303  \n",
       "9                             2913  "
      ]
     },
     "execution_count": 37,
     "metadata": {},
     "output_type": "execute_result"
    }
   ],
   "source": [
    "data[0]"
   ]
  },
  {
   "cell_type": "raw",
   "id": "c3f8faec",
   "metadata": {},
   "source": [
    "Otrzymamy tabelę z największymi polskimi miastami pod kątem liczby ludności.\n",
    "\n",
    "Teraz wywołamy drugi element listy:"
   ]
  },
  {
   "cell_type": "code",
   "execution_count": 38,
   "id": "3a8b4a01",
   "metadata": {},
   "outputs": [
    {
     "data": {
      "text/html": [
       "<div>\n",
       "<style scoped>\n",
       "    .dataframe tbody tr th:only-of-type {\n",
       "        vertical-align: middle;\n",
       "    }\n",
       "\n",
       "    .dataframe tbody tr th {\n",
       "        vertical-align: top;\n",
       "    }\n",
       "\n",
       "    .dataframe thead th {\n",
       "        text-align: right;\n",
       "    }\n",
       "</style>\n",
       "<table border=\"1\" class=\"dataframe\">\n",
       "  <thead>\n",
       "    <tr style=\"text-align: right;\">\n",
       "      <th></th>\n",
       "      <th>Lp.</th>\n",
       "      <th>Miasto</th>\n",
       "      <th>Województwo</th>\n",
       "      <th>Powierzchnia [ha]</th>\n",
       "    </tr>\n",
       "  </thead>\n",
       "  <tbody>\n",
       "    <tr>\n",
       "      <th>0</th>\n",
       "      <td>1.0</td>\n",
       "      <td>Warszawa</td>\n",
       "      <td>mazowieckie</td>\n",
       "      <td>51 724</td>\n",
       "    </tr>\n",
       "    <tr>\n",
       "      <th>1</th>\n",
       "      <td>2.0</td>\n",
       "      <td>Kraków</td>\n",
       "      <td>małopolskie</td>\n",
       "      <td>32 685</td>\n",
       "    </tr>\n",
       "    <tr>\n",
       "      <th>2</th>\n",
       "      <td>3.0</td>\n",
       "      <td>Szczecin</td>\n",
       "      <td>zachodniopomorskie</td>\n",
       "      <td>30 060</td>\n",
       "    </tr>\n",
       "    <tr>\n",
       "      <th>3</th>\n",
       "      <td>4.0</td>\n",
       "      <td>Łódź</td>\n",
       "      <td>łódzkie</td>\n",
       "      <td>29 325</td>\n",
       "    </tr>\n",
       "    <tr>\n",
       "      <th>4</th>\n",
       "      <td>5.0</td>\n",
       "      <td>Wrocław</td>\n",
       "      <td>dolnośląskie</td>\n",
       "      <td>29 282</td>\n",
       "    </tr>\n",
       "    <tr>\n",
       "      <th>5</th>\n",
       "      <td>6.0</td>\n",
       "      <td>Zielona Góra</td>\n",
       "      <td>lubuskie</td>\n",
       "      <td>27 832</td>\n",
       "    </tr>\n",
       "    <tr>\n",
       "      <th>6</th>\n",
       "      <td>7.0</td>\n",
       "      <td>Gdańsk</td>\n",
       "      <td>pomorskie</td>\n",
       "      <td>26 196</td>\n",
       "    </tr>\n",
       "    <tr>\n",
       "      <th>7</th>\n",
       "      <td>8.0</td>\n",
       "      <td>Poznań</td>\n",
       "      <td>wielkopolskie</td>\n",
       "      <td>26 191</td>\n",
       "    </tr>\n",
       "    <tr>\n",
       "      <th>8</th>\n",
       "      <td>9.0</td>\n",
       "      <td>Świnoujście</td>\n",
       "      <td>zachodniopomorskie</td>\n",
       "      <td>20 207</td>\n",
       "    </tr>\n",
       "    <tr>\n",
       "      <th>9</th>\n",
       "      <td>10.0</td>\n",
       "      <td>Dąbrowa Górnicza</td>\n",
       "      <td>śląskie</td>\n",
       "      <td>18 873</td>\n",
       "    </tr>\n",
       "  </tbody>\n",
       "</table>\n",
       "</div>"
      ],
      "text/plain": [
       "    Lp.            Miasto         Województwo Powierzchnia [ha]\n",
       "0   1.0          Warszawa         mazowieckie            51 724\n",
       "1   2.0            Kraków         małopolskie            32 685\n",
       "2   3.0          Szczecin  zachodniopomorskie            30 060\n",
       "3   4.0              Łódź             łódzkie            29 325\n",
       "4   5.0           Wrocław        dolnośląskie            29 282\n",
       "5   6.0      Zielona Góra            lubuskie            27 832\n",
       "6   7.0            Gdańsk           pomorskie            26 196\n",
       "7   8.0            Poznań       wielkopolskie            26 191\n",
       "8   9.0       Świnoujście  zachodniopomorskie            20 207\n",
       "9  10.0  Dąbrowa Górnicza             śląskie            18 873"
      ]
     },
     "execution_count": 38,
     "metadata": {},
     "output_type": "execute_result"
    }
   ],
   "source": [
    "data[1]"
   ]
  },
  {
   "cell_type": "raw",
   "id": "bb245eca",
   "metadata": {},
   "source": [
    "Zobaczymy w ten sposób tabelę z największymi polskimi miastami pod kątem powierzchni."
   ]
  },
  {
   "cell_type": "markdown",
   "id": "c2cab2c1",
   "metadata": {},
   "source": [
    "## Zadanie"
   ]
  },
  {
   "cell_type": "raw",
   "id": "bae4cf04",
   "metadata": {},
   "source": [
    "Na koniec tej części modułu przećwiczymy nowo poznane umiejętności na bazie najlepiej sprzedających się albumów wszechczasów. Wykonaj polecenia oraz odpowiedz na pytania zamieszczone poniżej, a rozwiązania wyślij Mentorowi.\n",
    "\n",
    "Wczytaj do Pandas bazę najlepiej sprzedających się albumów wszechczasów."
   ]
  },
  {
   "cell_type": "code",
   "execution_count": 8,
   "id": "36e44f6e",
   "metadata": {},
   "outputs": [],
   "source": [
    " best_selling_albums= pd.read_html('https://www.officialcharts.com/chart-news/the-best-selling-albums-of-all-time-on-the-official-uk-chart__15551/', header=0)"
   ]
  },
  {
   "cell_type": "code",
   "execution_count": 22,
   "id": "3d94d3af",
   "metadata": {},
   "outputs": [
    {
     "data": {
      "text/plain": [
       "pandas.core.frame.DataFrame"
      ]
     },
     "execution_count": 22,
     "metadata": {},
     "output_type": "execute_result"
    }
   ],
   "source": [
    "df = best_selling_albums[0]\n",
    "type(df)"
   ]
  },
  {
   "cell_type": "raw",
   "id": "13ad21c0",
   "metadata": {},
   "source": [
    "1. Zamień nagłówki kolumn na polskie odpowiedniki: ['TYTUŁ','ARTYSTA','ROK','MAX POZ']\n",
    " # Zgodnie z poleceniem POS ma byc niezmieniona"
   ]
  },
  {
   "cell_type": "code",
   "execution_count": 23,
   "id": "9aa33952",
   "metadata": {},
   "outputs": [],
   "source": [
    "df = df.rename(columns={'TITLE':'TYTUŁ','ARTIST':'ARTYSTA','YEAR':'ROK', 'HIGH POSN': 'MAX POZ'})"
   ]
  },
  {
   "cell_type": "raw",
   "id": "4d2e5e34",
   "metadata": {},
   "source": [
    "2. Ilu pojedynczych artystów znajduje się na liście?"
   ]
  },
  {
   "cell_type": "code",
   "execution_count": 24,
   "id": "cb6f1074",
   "metadata": {},
   "outputs": [
    {
     "data": {
      "text/plain": [
       "47"
      ]
     },
     "execution_count": 24,
     "metadata": {},
     "output_type": "execute_result"
    }
   ],
   "source": [
    "unique_art = df['ARTYSTA'].unique()\n",
    "len(unique_art)"
   ]
  },
  {
   "cell_type": "raw",
   "id": "a62f2c90",
   "metadata": {},
   "source": [
    "3. Które zespoły pojawiają się najczęściej na liście?"
   ]
  },
  {
   "cell_type": "code",
   "execution_count": 25,
   "id": "cfabcbc0",
   "metadata": {},
   "outputs": [
    {
     "data": {
      "text/plain": [
       "0     COLDPLAY\n",
       "1    TAKE THAT\n",
       "Name: ARTYSTA, dtype: object"
      ]
     },
     "execution_count": 25,
     "metadata": {},
     "output_type": "execute_result"
    }
   ],
   "source": [
    "df['ARTYSTA'].mode()"
   ]
  },
  {
   "cell_type": "raw",
   "id": "45d0b892",
   "metadata": {},
   "source": [
    "4. Zmień nagłówki kolumn, tak aby każdy z nich rozpoczynał się od wielkiej litery, a pozostałe były wprowadzone małymi literami."
   ]
  },
  {
   "cell_type": "code",
   "execution_count": 26,
   "id": "e3435fcd",
   "metadata": {},
   "outputs": [
    {
     "data": {
      "text/html": [
       "<div>\n",
       "<style scoped>\n",
       "    .dataframe tbody tr th:only-of-type {\n",
       "        vertical-align: middle;\n",
       "    }\n",
       "\n",
       "    .dataframe tbody tr th {\n",
       "        vertical-align: top;\n",
       "    }\n",
       "\n",
       "    .dataframe thead th {\n",
       "        text-align: right;\n",
       "    }\n",
       "</style>\n",
       "<table border=\"1\" class=\"dataframe\">\n",
       "  <thead>\n",
       "    <tr style=\"text-align: right;\">\n",
       "      <th></th>\n",
       "      <th>Pos</th>\n",
       "      <th>Tytuł</th>\n",
       "      <th>Artysta</th>\n",
       "      <th>Rok</th>\n",
       "      <th>Max Poz</th>\n",
       "    </tr>\n",
       "  </thead>\n",
       "  <tbody>\n",
       "    <tr>\n",
       "      <th>0</th>\n",
       "      <td>1</td>\n",
       "      <td>GREATEST HITS</td>\n",
       "      <td>QUEEN</td>\n",
       "      <td>1981</td>\n",
       "      <td>1</td>\n",
       "    </tr>\n",
       "    <tr>\n",
       "      <th>1</th>\n",
       "      <td>2</td>\n",
       "      <td>GOLD - GREATEST HITS</td>\n",
       "      <td>ABBA</td>\n",
       "      <td>1992</td>\n",
       "      <td>1</td>\n",
       "    </tr>\n",
       "    <tr>\n",
       "      <th>2</th>\n",
       "      <td>3</td>\n",
       "      <td>SGT PEPPER'S LONELY HEARTS CLUB BAND</td>\n",
       "      <td>BEATLES</td>\n",
       "      <td>1967</td>\n",
       "      <td>1</td>\n",
       "    </tr>\n",
       "    <tr>\n",
       "      <th>3</th>\n",
       "      <td>4</td>\n",
       "      <td>21</td>\n",
       "      <td>ADELE</td>\n",
       "      <td>2011</td>\n",
       "      <td>1</td>\n",
       "    </tr>\n",
       "    <tr>\n",
       "      <th>4</th>\n",
       "      <td>5</td>\n",
       "      <td>WHAT'S THE STORY MORNING GLORY</td>\n",
       "      <td>OASIS</td>\n",
       "      <td>1995</td>\n",
       "      <td>1</td>\n",
       "    </tr>\n",
       "    <tr>\n",
       "      <th>5</th>\n",
       "      <td>6</td>\n",
       "      <td>THRILLER</td>\n",
       "      <td>MICHAEL JACKSON</td>\n",
       "      <td>1982</td>\n",
       "      <td>1</td>\n",
       "    </tr>\n",
       "    <tr>\n",
       "      <th>6</th>\n",
       "      <td>7</td>\n",
       "      <td>THE DARK SIDE OF THE MOON</td>\n",
       "      <td>PINK FLOYD</td>\n",
       "      <td>1973</td>\n",
       "      <td>2</td>\n",
       "    </tr>\n",
       "    <tr>\n",
       "      <th>7</th>\n",
       "      <td>8</td>\n",
       "      <td>BROTHERS IN ARMS</td>\n",
       "      <td>DIRE STRAITS</td>\n",
       "      <td>1985</td>\n",
       "      <td>1</td>\n",
       "    </tr>\n",
       "    <tr>\n",
       "      <th>8</th>\n",
       "      <td>9</td>\n",
       "      <td>BAD</td>\n",
       "      <td>MICHAEL JACKSON</td>\n",
       "      <td>1987</td>\n",
       "      <td>1</td>\n",
       "    </tr>\n",
       "    <tr>\n",
       "      <th>9</th>\n",
       "      <td>10</td>\n",
       "      <td>GREATEST HITS II</td>\n",
       "      <td>QUEEN</td>\n",
       "      <td>1991</td>\n",
       "      <td>1</td>\n",
       "    </tr>\n",
       "    <tr>\n",
       "      <th>10</th>\n",
       "      <td>11</td>\n",
       "      <td>RUMOURS</td>\n",
       "      <td>FLEETWOOD MAC</td>\n",
       "      <td>1977</td>\n",
       "      <td>1</td>\n",
       "    </tr>\n",
       "    <tr>\n",
       "      <th>11</th>\n",
       "      <td>12</td>\n",
       "      <td>THE IMMACULATE COLLECTION</td>\n",
       "      <td>MADONNA</td>\n",
       "      <td>1990</td>\n",
       "      <td>1</td>\n",
       "    </tr>\n",
       "    <tr>\n",
       "      <th>12</th>\n",
       "      <td>13</td>\n",
       "      <td>BACK TO BLACK</td>\n",
       "      <td>AMY WINEHOUSE</td>\n",
       "      <td>2006</td>\n",
       "      <td>1</td>\n",
       "    </tr>\n",
       "    <tr>\n",
       "      <th>13</th>\n",
       "      <td>14</td>\n",
       "      <td>STARS</td>\n",
       "      <td>SIMPLY RED</td>\n",
       "      <td>1991</td>\n",
       "      <td>1</td>\n",
       "    </tr>\n",
       "    <tr>\n",
       "      <th>14</th>\n",
       "      <td>15</td>\n",
       "      <td>COME ON OVER</td>\n",
       "      <td>SHANIA TWAIN</td>\n",
       "      <td>1997</td>\n",
       "      <td>1</td>\n",
       "    </tr>\n",
       "    <tr>\n",
       "      <th>15</th>\n",
       "      <td>16</td>\n",
       "      <td>LEGEND</td>\n",
       "      <td>BOB MARLEY &amp; THE WAILERS</td>\n",
       "      <td>1984</td>\n",
       "      <td>1</td>\n",
       "    </tr>\n",
       "    <tr>\n",
       "      <th>16</th>\n",
       "      <td>17</td>\n",
       "      <td>BACK TO BEDLAM</td>\n",
       "      <td>JAMES BLUNT</td>\n",
       "      <td>2004</td>\n",
       "      <td>1</td>\n",
       "    </tr>\n",
       "    <tr>\n",
       "      <th>17</th>\n",
       "      <td>18</td>\n",
       "      <td>URBAN HYMNS</td>\n",
       "      <td>VERVE</td>\n",
       "      <td>1997</td>\n",
       "      <td>1</td>\n",
       "    </tr>\n",
       "    <tr>\n",
       "      <th>18</th>\n",
       "      <td>19</td>\n",
       "      <td>BAT OUT OF HELL</td>\n",
       "      <td>MEAT LOAF</td>\n",
       "      <td>1977</td>\n",
       "      <td>9</td>\n",
       "    </tr>\n",
       "    <tr>\n",
       "      <th>19</th>\n",
       "      <td>20</td>\n",
       "      <td>1</td>\n",
       "      <td>BEATLES</td>\n",
       "      <td>2000</td>\n",
       "      <td>1</td>\n",
       "    </tr>\n",
       "    <tr>\n",
       "      <th>20</th>\n",
       "      <td>21</td>\n",
       "      <td>BRIDGE OVER TROUBLED WATER</td>\n",
       "      <td>SIMON &amp; GARFUNKEL</td>\n",
       "      <td>1970</td>\n",
       "      <td>1</td>\n",
       "    </tr>\n",
       "    <tr>\n",
       "      <th>21</th>\n",
       "      <td>22</td>\n",
       "      <td>DIRTY DANCING</td>\n",
       "      <td>ORIGINAL SOUNDTRACK</td>\n",
       "      <td>1987</td>\n",
       "      <td>4</td>\n",
       "    </tr>\n",
       "    <tr>\n",
       "      <th>22</th>\n",
       "      <td>23</td>\n",
       "      <td>SPIRIT</td>\n",
       "      <td>LEONA LEWIS</td>\n",
       "      <td>2007</td>\n",
       "      <td>1</td>\n",
       "    </tr>\n",
       "    <tr>\n",
       "      <th>23</th>\n",
       "      <td>24</td>\n",
       "      <td>CRAZY LOVE</td>\n",
       "      <td>MICHAEL BUBLE</td>\n",
       "      <td>2009</td>\n",
       "      <td>1</td>\n",
       "    </tr>\n",
       "    <tr>\n",
       "      <th>24</th>\n",
       "      <td>25</td>\n",
       "      <td>NO ANGEL</td>\n",
       "      <td>DIDO</td>\n",
       "      <td>2000</td>\n",
       "      <td>1</td>\n",
       "    </tr>\n",
       "    <tr>\n",
       "      <th>25</th>\n",
       "      <td>26</td>\n",
       "      <td>WHITE LADDER</td>\n",
       "      <td>DAVID GRAY</td>\n",
       "      <td>1998</td>\n",
       "      <td>1</td>\n",
       "    </tr>\n",
       "    <tr>\n",
       "      <th>26</th>\n",
       "      <td>27</td>\n",
       "      <td>25</td>\n",
       "      <td>ADELE</td>\n",
       "      <td>2015</td>\n",
       "      <td>1</td>\n",
       "    </tr>\n",
       "    <tr>\n",
       "      <th>27</th>\n",
       "      <td>28</td>\n",
       "      <td>TALK ON CORNERS</td>\n",
       "      <td>CORRS</td>\n",
       "      <td>1997</td>\n",
       "      <td>1</td>\n",
       "    </tr>\n",
       "    <tr>\n",
       "      <th>28</th>\n",
       "      <td>29</td>\n",
       "      <td>SPICE</td>\n",
       "      <td>SPICE GIRLS</td>\n",
       "      <td>1996</td>\n",
       "      <td>1</td>\n",
       "    </tr>\n",
       "    <tr>\n",
       "      <th>29</th>\n",
       "      <td>30</td>\n",
       "      <td>THE FAME</td>\n",
       "      <td>LADY GAGA</td>\n",
       "      <td>2008</td>\n",
       "      <td>1</td>\n",
       "    </tr>\n",
       "    <tr>\n",
       "      <th>30</th>\n",
       "      <td>31</td>\n",
       "      <td>A RUSH OF BLOOD TO THE HEAD</td>\n",
       "      <td>COLDPLAY</td>\n",
       "      <td>2002</td>\n",
       "      <td>1</td>\n",
       "    </tr>\n",
       "    <tr>\n",
       "      <th>31</th>\n",
       "      <td>32</td>\n",
       "      <td>LIFE FOR RENT</td>\n",
       "      <td>DIDO</td>\n",
       "      <td>2003</td>\n",
       "      <td>1</td>\n",
       "    </tr>\n",
       "    <tr>\n",
       "      <th>32</th>\n",
       "      <td>33</td>\n",
       "      <td>ONLY BY THE NIGHT</td>\n",
       "      <td>KINGS OF LEON</td>\n",
       "      <td>2008</td>\n",
       "      <td>1</td>\n",
       "    </tr>\n",
       "    <tr>\n",
       "      <th>33</th>\n",
       "      <td>34</td>\n",
       "      <td>BEAUTIFUL WORLD</td>\n",
       "      <td>TAKE THAT</td>\n",
       "      <td>2006</td>\n",
       "      <td>1</td>\n",
       "    </tr>\n",
       "    <tr>\n",
       "      <th>34</th>\n",
       "      <td>35</td>\n",
       "      <td>HOPES AND FEARS</td>\n",
       "      <td>KEANE</td>\n",
       "      <td>2004</td>\n",
       "      <td>1</td>\n",
       "    </tr>\n",
       "    <tr>\n",
       "      <th>35</th>\n",
       "      <td>36</td>\n",
       "      <td>THE JOSHUA TREE</td>\n",
       "      <td>U2</td>\n",
       "      <td>1987</td>\n",
       "      <td>1</td>\n",
       "    </tr>\n",
       "    <tr>\n",
       "      <th>36</th>\n",
       "      <td>37</td>\n",
       "      <td>THE WAR OF THE WORLDS</td>\n",
       "      <td>JEFF WAYNE</td>\n",
       "      <td>1978</td>\n",
       "      <td>5</td>\n",
       "    </tr>\n",
       "    <tr>\n",
       "      <th>37</th>\n",
       "      <td>38</td>\n",
       "      <td>SCISSOR SISTERS</td>\n",
       "      <td>SCISSOR SISTERS</td>\n",
       "      <td>2004</td>\n",
       "      <td>1</td>\n",
       "    </tr>\n",
       "    <tr>\n",
       "      <th>38</th>\n",
       "      <td>39</td>\n",
       "      <td>BUT SERIOUSLY</td>\n",
       "      <td>PHIL COLLINS</td>\n",
       "      <td>1989</td>\n",
       "      <td>1</td>\n",
       "    </tr>\n",
       "    <tr>\n",
       "      <th>39</th>\n",
       "      <td>40</td>\n",
       "      <td>X&amp;Y</td>\n",
       "      <td>COLDPLAY</td>\n",
       "      <td>2005</td>\n",
       "      <td>1</td>\n",
       "    </tr>\n",
       "    <tr>\n",
       "      <th>40</th>\n",
       "      <td>41</td>\n",
       "      <td>JAGGED LITTLE PILL</td>\n",
       "      <td>ALANIS MORISSETTE</td>\n",
       "      <td>1995</td>\n",
       "      <td>1</td>\n",
       "    </tr>\n",
       "    <tr>\n",
       "      <th>41</th>\n",
       "      <td>42</td>\n",
       "      <td>TUBULAR BELLS</td>\n",
       "      <td>MIKE OLDFIELD</td>\n",
       "      <td>1973</td>\n",
       "      <td>1</td>\n",
       "    </tr>\n",
       "    <tr>\n",
       "      <th>42</th>\n",
       "      <td>43</td>\n",
       "      <td>THE MAN WHO</td>\n",
       "      <td>TRAVIS</td>\n",
       "      <td>1999</td>\n",
       "      <td>1</td>\n",
       "    </tr>\n",
       "    <tr>\n",
       "      <th>43</th>\n",
       "      <td>44</td>\n",
       "      <td>TRACY CHAPMAN</td>\n",
       "      <td>TRACY CHAPMAN</td>\n",
       "      <td>1988</td>\n",
       "      <td>1</td>\n",
       "    </tr>\n",
       "    <tr>\n",
       "      <th>44</th>\n",
       "      <td>45</td>\n",
       "      <td>PARACHUTES</td>\n",
       "      <td>COLDPLAY</td>\n",
       "      <td>2000</td>\n",
       "      <td>1</td>\n",
       "    </tr>\n",
       "    <tr>\n",
       "      <th>45</th>\n",
       "      <td>46</td>\n",
       "      <td>GREATEST HITS</td>\n",
       "      <td>ABBA</td>\n",
       "      <td>1975</td>\n",
       "      <td>1</td>\n",
       "    </tr>\n",
       "    <tr>\n",
       "      <th>46</th>\n",
       "      <td>47</td>\n",
       "      <td>GREASE</td>\n",
       "      <td>ORIGINAL SOUNDTRACK</td>\n",
       "      <td>1977</td>\n",
       "      <td>1</td>\n",
       "    </tr>\n",
       "    <tr>\n",
       "      <th>47</th>\n",
       "      <td>48</td>\n",
       "      <td>I'VE BEEN EXPECTING YOU</td>\n",
       "      <td>ROBBIE WILLIAMS</td>\n",
       "      <td>1998</td>\n",
       "      <td>1</td>\n",
       "    </tr>\n",
       "    <tr>\n",
       "      <th>48</th>\n",
       "      <td>49</td>\n",
       "      <td>X</td>\n",
       "      <td>ED SHEERAN</td>\n",
       "      <td>2014</td>\n",
       "      <td>1</td>\n",
       "    </tr>\n",
       "    <tr>\n",
       "      <th>49</th>\n",
       "      <td>50</td>\n",
       "      <td>COME AWAY WITH ME</td>\n",
       "      <td>NORAH JONES</td>\n",
       "      <td>2002</td>\n",
       "      <td>1</td>\n",
       "    </tr>\n",
       "    <tr>\n",
       "      <th>50</th>\n",
       "      <td>51</td>\n",
       "      <td>GRACELAND</td>\n",
       "      <td>PAUL SIMON</td>\n",
       "      <td>1986</td>\n",
       "      <td>1</td>\n",
       "    </tr>\n",
       "    <tr>\n",
       "      <th>51</th>\n",
       "      <td>52</td>\n",
       "      <td>THE SOUND OF MUSIC</td>\n",
       "      <td>ORIGINAL CAST RECORDING</td>\n",
       "      <td>1965</td>\n",
       "      <td>1</td>\n",
       "    </tr>\n",
       "    <tr>\n",
       "      <th>52</th>\n",
       "      <td>53</td>\n",
       "      <td>LADIES &amp; GENTLEMEN - THE BEST OF</td>\n",
       "      <td>GEORGE MICHAEL</td>\n",
       "      <td>1998</td>\n",
       "      <td>1</td>\n",
       "    </tr>\n",
       "    <tr>\n",
       "      <th>53</th>\n",
       "      <td>54</td>\n",
       "      <td>TANGO IN THE NIGHT</td>\n",
       "      <td>FLEETWOOD MAC</td>\n",
       "      <td>1987</td>\n",
       "      <td>1</td>\n",
       "    </tr>\n",
       "    <tr>\n",
       "      <th>54</th>\n",
       "      <td>55</td>\n",
       "      <td>THE MARSHALL MATHERS LP</td>\n",
       "      <td>EMINEM</td>\n",
       "      <td>2000</td>\n",
       "      <td>1</td>\n",
       "    </tr>\n",
       "    <tr>\n",
       "      <th>55</th>\n",
       "      <td>56</td>\n",
       "      <td>SWING WHEN YOU'RE WINNING</td>\n",
       "      <td>ROBBIE WILLIAMS</td>\n",
       "      <td>2001</td>\n",
       "      <td>1</td>\n",
       "    </tr>\n",
       "    <tr>\n",
       "      <th>56</th>\n",
       "      <td>57</td>\n",
       "      <td>PROGRESS</td>\n",
       "      <td>TAKE THAT</td>\n",
       "      <td>2010</td>\n",
       "      <td>1</td>\n",
       "    </tr>\n",
       "    <tr>\n",
       "      <th>57</th>\n",
       "      <td>58</td>\n",
       "      <td>EYES OPEN</td>\n",
       "      <td>SNOW PATROL</td>\n",
       "      <td>2006</td>\n",
       "      <td>1</td>\n",
       "    </tr>\n",
       "    <tr>\n",
       "      <th>58</th>\n",
       "      <td>59</td>\n",
       "      <td>NEVER FORGET - THE ULTIMATE COLLECTION</td>\n",
       "      <td>TAKE THAT</td>\n",
       "      <td>2005</td>\n",
       "      <td>2</td>\n",
       "    </tr>\n",
       "    <tr>\n",
       "      <th>59</th>\n",
       "      <td>60</td>\n",
       "      <td>AUTOMATIC FOR THE PEOPLE</td>\n",
       "      <td>REM</td>\n",
       "      <td>1992</td>\n",
       "      <td>1</td>\n",
       "    </tr>\n",
       "  </tbody>\n",
       "</table>\n",
       "</div>"
      ],
      "text/plain": [
       "    Pos                                   Tytuł                   Artysta  \\\n",
       "0     1                           GREATEST HITS                     QUEEN   \n",
       "1     2                    GOLD - GREATEST HITS                      ABBA   \n",
       "2     3    SGT PEPPER'S LONELY HEARTS CLUB BAND                   BEATLES   \n",
       "3     4                                      21                     ADELE   \n",
       "4     5          WHAT'S THE STORY MORNING GLORY                     OASIS   \n",
       "5     6                                THRILLER           MICHAEL JACKSON   \n",
       "6     7               THE DARK SIDE OF THE MOON                PINK FLOYD   \n",
       "7     8                        BROTHERS IN ARMS              DIRE STRAITS   \n",
       "8     9                                     BAD           MICHAEL JACKSON   \n",
       "9    10                        GREATEST HITS II                     QUEEN   \n",
       "10   11                                 RUMOURS             FLEETWOOD MAC   \n",
       "11   12               THE IMMACULATE COLLECTION                   MADONNA   \n",
       "12   13                           BACK TO BLACK             AMY WINEHOUSE   \n",
       "13   14                                   STARS                SIMPLY RED   \n",
       "14   15                            COME ON OVER              SHANIA TWAIN   \n",
       "15   16                                  LEGEND  BOB MARLEY & THE WAILERS   \n",
       "16   17                          BACK TO BEDLAM               JAMES BLUNT   \n",
       "17   18                             URBAN HYMNS                     VERVE   \n",
       "18   19                         BAT OUT OF HELL                 MEAT LOAF   \n",
       "19   20                                       1                   BEATLES   \n",
       "20   21              BRIDGE OVER TROUBLED WATER         SIMON & GARFUNKEL   \n",
       "21   22                           DIRTY DANCING       ORIGINAL SOUNDTRACK   \n",
       "22   23                                  SPIRIT               LEONA LEWIS   \n",
       "23   24                              CRAZY LOVE             MICHAEL BUBLE   \n",
       "24   25                                NO ANGEL                      DIDO   \n",
       "25   26                            WHITE LADDER                DAVID GRAY   \n",
       "26   27                                      25                     ADELE   \n",
       "27   28                         TALK ON CORNERS                     CORRS   \n",
       "28   29                                   SPICE               SPICE GIRLS   \n",
       "29   30                                THE FAME                 LADY GAGA   \n",
       "30   31             A RUSH OF BLOOD TO THE HEAD                  COLDPLAY   \n",
       "31   32                           LIFE FOR RENT                      DIDO   \n",
       "32   33                       ONLY BY THE NIGHT             KINGS OF LEON   \n",
       "33   34                         BEAUTIFUL WORLD                 TAKE THAT   \n",
       "34   35                         HOPES AND FEARS                     KEANE   \n",
       "35   36                         THE JOSHUA TREE                        U2   \n",
       "36   37                   THE WAR OF THE WORLDS                JEFF WAYNE   \n",
       "37   38                         SCISSOR SISTERS           SCISSOR SISTERS   \n",
       "38   39                           BUT SERIOUSLY              PHIL COLLINS   \n",
       "39   40                                     X&Y                  COLDPLAY   \n",
       "40   41                      JAGGED LITTLE PILL         ALANIS MORISSETTE   \n",
       "41   42                           TUBULAR BELLS             MIKE OLDFIELD   \n",
       "42   43                             THE MAN WHO                    TRAVIS   \n",
       "43   44                           TRACY CHAPMAN             TRACY CHAPMAN   \n",
       "44   45                              PARACHUTES                  COLDPLAY   \n",
       "45   46                           GREATEST HITS                      ABBA   \n",
       "46   47                                  GREASE       ORIGINAL SOUNDTRACK   \n",
       "47   48                 I'VE BEEN EXPECTING YOU           ROBBIE WILLIAMS   \n",
       "48   49                                       X                ED SHEERAN   \n",
       "49   50                       COME AWAY WITH ME               NORAH JONES   \n",
       "50   51                               GRACELAND                PAUL SIMON   \n",
       "51   52                      THE SOUND OF MUSIC   ORIGINAL CAST RECORDING   \n",
       "52   53        LADIES & GENTLEMEN - THE BEST OF            GEORGE MICHAEL   \n",
       "53   54                      TANGO IN THE NIGHT             FLEETWOOD MAC   \n",
       "54   55                 THE MARSHALL MATHERS LP                    EMINEM   \n",
       "55   56               SWING WHEN YOU'RE WINNING           ROBBIE WILLIAMS   \n",
       "56   57                                PROGRESS                 TAKE THAT   \n",
       "57   58                               EYES OPEN               SNOW PATROL   \n",
       "58   59  NEVER FORGET - THE ULTIMATE COLLECTION                 TAKE THAT   \n",
       "59   60                AUTOMATIC FOR THE PEOPLE                       REM   \n",
       "\n",
       "     Rok  Max Poz  \n",
       "0   1981        1  \n",
       "1   1992        1  \n",
       "2   1967        1  \n",
       "3   2011        1  \n",
       "4   1995        1  \n",
       "5   1982        1  \n",
       "6   1973        2  \n",
       "7   1985        1  \n",
       "8   1987        1  \n",
       "9   1991        1  \n",
       "10  1977        1  \n",
       "11  1990        1  \n",
       "12  2006        1  \n",
       "13  1991        1  \n",
       "14  1997        1  \n",
       "15  1984        1  \n",
       "16  2004        1  \n",
       "17  1997        1  \n",
       "18  1977        9  \n",
       "19  2000        1  \n",
       "20  1970        1  \n",
       "21  1987        4  \n",
       "22  2007        1  \n",
       "23  2009        1  \n",
       "24  2000        1  \n",
       "25  1998        1  \n",
       "26  2015        1  \n",
       "27  1997        1  \n",
       "28  1996        1  \n",
       "29  2008        1  \n",
       "30  2002        1  \n",
       "31  2003        1  \n",
       "32  2008        1  \n",
       "33  2006        1  \n",
       "34  2004        1  \n",
       "35  1987        1  \n",
       "36  1978        5  \n",
       "37  2004        1  \n",
       "38  1989        1  \n",
       "39  2005        1  \n",
       "40  1995        1  \n",
       "41  1973        1  \n",
       "42  1999        1  \n",
       "43  1988        1  \n",
       "44  2000        1  \n",
       "45  1975        1  \n",
       "46  1977        1  \n",
       "47  1998        1  \n",
       "48  2014        1  \n",
       "49  2002        1  \n",
       "50  1986        1  \n",
       "51  1965        1  \n",
       "52  1998        1  \n",
       "53  1987        1  \n",
       "54  2000        1  \n",
       "55  2001        1  \n",
       "56  2010        1  \n",
       "57  2006        1  \n",
       "58  2005        2  \n",
       "59  1992        1  "
      ]
     },
     "execution_count": 26,
     "metadata": {},
     "output_type": "execute_result"
    }
   ],
   "source": [
    "df = df.rename(columns=str.title)\n",
    "df"
   ]
  },
  {
   "cell_type": "raw",
   "id": "439452cd",
   "metadata": {},
   "source": [
    "5. Wyrzuć z tabeli kolumnę ‘Max Poz’"
   ]
  },
  {
   "cell_type": "code",
   "execution_count": 27,
   "id": "ab6b7ab6",
   "metadata": {},
   "outputs": [],
   "source": [
    "df = df.drop('Max Poz',axis=1)"
   ]
  },
  {
   "cell_type": "raw",
   "id": "db589490",
   "metadata": {},
   "source": [
    "6. W którym roku wyszło najwięcej albumów znajdujących się na liście?"
   ]
  },
  {
   "cell_type": "code",
   "execution_count": 28,
   "id": "d4d280b0",
   "metadata": {},
   "outputs": [
    {
     "data": {
      "text/plain": [
       "0    1987\n",
       "1    2000\n",
       "Name: Rok, dtype: int64"
      ]
     },
     "execution_count": 28,
     "metadata": {},
     "output_type": "execute_result"
    }
   ],
   "source": [
    "df['Rok'].mode()"
   ]
  },
  {
   "cell_type": "code",
   "execution_count": 29,
   "id": "f796380e",
   "metadata": {},
   "outputs": [],
   "source": [
    "# df.groupby('Rok').count()"
   ]
  },
  {
   "cell_type": "raw",
   "id": "224f9be5",
   "metadata": {},
   "source": [
    "7. Ile albumów wydanych między 1960 a 1990 rokiem włącznie znajduje się na liście?"
   ]
  },
  {
   "cell_type": "code",
   "execution_count": 42,
   "id": "dd94c3fe",
   "metadata": {},
   "outputs": [
    {
     "data": {
      "text/plain": [
       "22"
      ]
     },
     "execution_count": 42,
     "metadata": {},
     "output_type": "execute_result"
    }
   ],
   "source": [
    "\n"
   ]
  },
  {
   "cell_type": "code",
   "execution_count": 47,
   "id": "a802c5e6",
   "metadata": {
    "scrolled": true
   },
   "outputs": [
    {
     "data": {
      "text/plain": [
       "22"
      ]
     },
     "execution_count": 47,
     "metadata": {},
     "output_type": "execute_result"
    }
   ],
   "source": [
    "df[(df['Rok'] <= 1990) & (df['Rok'] <= 1990)][\"Tytuł\"].count()"
   ]
  },
  {
   "cell_type": "raw",
   "id": "4ee95637",
   "metadata": {},
   "source": [
    "Taki kod wystaczy bo najstarszy album jest z 1965 roku"
   ]
  },
  {
   "cell_type": "code",
   "execution_count": 46,
   "id": "7aa16388",
   "metadata": {},
   "outputs": [
    {
     "data": {
      "text/plain": [
       "22"
      ]
     },
     "execution_count": 46,
     "metadata": {},
     "output_type": "execute_result"
    }
   ],
   "source": [
    "df[df['Rok'] <= 1990][\"Tytuł\"].count()"
   ]
  },
  {
   "cell_type": "code",
   "execution_count": 43,
   "id": "1f9402f6",
   "metadata": {},
   "outputs": [
    {
     "data": {
      "text/plain": [
       "1965"
      ]
     },
     "execution_count": 43,
     "metadata": {},
     "output_type": "execute_result"
    }
   ],
   "source": [
    "df['Rok'].min()"
   ]
  },
  {
   "cell_type": "raw",
   "id": "5507a47e",
   "metadata": {},
   "source": [
    "8. W którym roku wydany został najmłodszy album na liście?"
   ]
  },
  {
   "cell_type": "code",
   "execution_count": 48,
   "id": "835e23a6",
   "metadata": {},
   "outputs": [
    {
     "data": {
      "text/plain": [
       "2015"
      ]
     },
     "execution_count": 48,
     "metadata": {},
     "output_type": "execute_result"
    }
   ],
   "source": [
    "df['Rok'].max()"
   ]
  },
  {
   "cell_type": "raw",
   "id": "d2905a2f",
   "metadata": {},
   "source": [
    "9. Przygotuj listę najwcześniej wydanych albumów każdego artysty, który znalazł się na liście."
   ]
  },
  {
   "cell_type": "code",
   "execution_count": 67,
   "id": "b5d5f3eb",
   "metadata": {},
   "outputs": [
    {
     "name": "stderr",
     "output_type": "stream",
     "text": [
      "C:\\Users\\zfech\\AppData\\Local\\Temp\\ipykernel_13424\\3163796396.py:2: FutureWarning: Indexing with multiple keys (implicitly converted to a tuple of keys) will be deprecated, use a list instead.\n",
      "  df.groupby('Artysta')['Rok','Tytuł'].first()\n"
     ]
    },
    {
     "data": {
      "text/html": [
       "<div>\n",
       "<style scoped>\n",
       "    .dataframe tbody tr th:only-of-type {\n",
       "        vertical-align: middle;\n",
       "    }\n",
       "\n",
       "    .dataframe tbody tr th {\n",
       "        vertical-align: top;\n",
       "    }\n",
       "\n",
       "    .dataframe thead th {\n",
       "        text-align: right;\n",
       "    }\n",
       "</style>\n",
       "<table border=\"1\" class=\"dataframe\">\n",
       "  <thead>\n",
       "    <tr style=\"text-align: right;\">\n",
       "      <th></th>\n",
       "      <th>Rok</th>\n",
       "      <th>Tytuł</th>\n",
       "    </tr>\n",
       "    <tr>\n",
       "      <th>Artysta</th>\n",
       "      <th></th>\n",
       "      <th></th>\n",
       "    </tr>\n",
       "  </thead>\n",
       "  <tbody>\n",
       "    <tr>\n",
       "      <th>ABBA</th>\n",
       "      <td>1992</td>\n",
       "      <td>GOLD - GREATEST HITS</td>\n",
       "    </tr>\n",
       "    <tr>\n",
       "      <th>ADELE</th>\n",
       "      <td>2011</td>\n",
       "      <td>21</td>\n",
       "    </tr>\n",
       "    <tr>\n",
       "      <th>ALANIS MORISSETTE</th>\n",
       "      <td>1995</td>\n",
       "      <td>JAGGED LITTLE PILL</td>\n",
       "    </tr>\n",
       "    <tr>\n",
       "      <th>AMY WINEHOUSE</th>\n",
       "      <td>2006</td>\n",
       "      <td>BACK TO BLACK</td>\n",
       "    </tr>\n",
       "    <tr>\n",
       "      <th>BEATLES</th>\n",
       "      <td>1967</td>\n",
       "      <td>SGT PEPPER'S LONELY HEARTS CLUB BAND</td>\n",
       "    </tr>\n",
       "    <tr>\n",
       "      <th>BOB MARLEY &amp; THE WAILERS</th>\n",
       "      <td>1984</td>\n",
       "      <td>LEGEND</td>\n",
       "    </tr>\n",
       "    <tr>\n",
       "      <th>COLDPLAY</th>\n",
       "      <td>2002</td>\n",
       "      <td>A RUSH OF BLOOD TO THE HEAD</td>\n",
       "    </tr>\n",
       "    <tr>\n",
       "      <th>CORRS</th>\n",
       "      <td>1997</td>\n",
       "      <td>TALK ON CORNERS</td>\n",
       "    </tr>\n",
       "    <tr>\n",
       "      <th>DAVID GRAY</th>\n",
       "      <td>1998</td>\n",
       "      <td>WHITE LADDER</td>\n",
       "    </tr>\n",
       "    <tr>\n",
       "      <th>DIDO</th>\n",
       "      <td>2000</td>\n",
       "      <td>NO ANGEL</td>\n",
       "    </tr>\n",
       "    <tr>\n",
       "      <th>DIRE STRAITS</th>\n",
       "      <td>1985</td>\n",
       "      <td>BROTHERS IN ARMS</td>\n",
       "    </tr>\n",
       "    <tr>\n",
       "      <th>ED SHEERAN</th>\n",
       "      <td>2014</td>\n",
       "      <td>X</td>\n",
       "    </tr>\n",
       "    <tr>\n",
       "      <th>EMINEM</th>\n",
       "      <td>2000</td>\n",
       "      <td>THE MARSHALL MATHERS LP</td>\n",
       "    </tr>\n",
       "    <tr>\n",
       "      <th>FLEETWOOD MAC</th>\n",
       "      <td>1977</td>\n",
       "      <td>RUMOURS</td>\n",
       "    </tr>\n",
       "    <tr>\n",
       "      <th>GEORGE MICHAEL</th>\n",
       "      <td>1998</td>\n",
       "      <td>LADIES &amp; GENTLEMEN - THE BEST OF</td>\n",
       "    </tr>\n",
       "    <tr>\n",
       "      <th>JAMES BLUNT</th>\n",
       "      <td>2004</td>\n",
       "      <td>BACK TO BEDLAM</td>\n",
       "    </tr>\n",
       "    <tr>\n",
       "      <th>JEFF WAYNE</th>\n",
       "      <td>1978</td>\n",
       "      <td>THE WAR OF THE WORLDS</td>\n",
       "    </tr>\n",
       "    <tr>\n",
       "      <th>KEANE</th>\n",
       "      <td>2004</td>\n",
       "      <td>HOPES AND FEARS</td>\n",
       "    </tr>\n",
       "    <tr>\n",
       "      <th>KINGS OF LEON</th>\n",
       "      <td>2008</td>\n",
       "      <td>ONLY BY THE NIGHT</td>\n",
       "    </tr>\n",
       "    <tr>\n",
       "      <th>LADY GAGA</th>\n",
       "      <td>2008</td>\n",
       "      <td>THE FAME</td>\n",
       "    </tr>\n",
       "    <tr>\n",
       "      <th>LEONA LEWIS</th>\n",
       "      <td>2007</td>\n",
       "      <td>SPIRIT</td>\n",
       "    </tr>\n",
       "    <tr>\n",
       "      <th>MADONNA</th>\n",
       "      <td>1990</td>\n",
       "      <td>THE IMMACULATE COLLECTION</td>\n",
       "    </tr>\n",
       "    <tr>\n",
       "      <th>MEAT LOAF</th>\n",
       "      <td>1977</td>\n",
       "      <td>BAT OUT OF HELL</td>\n",
       "    </tr>\n",
       "    <tr>\n",
       "      <th>MICHAEL BUBLE</th>\n",
       "      <td>2009</td>\n",
       "      <td>CRAZY LOVE</td>\n",
       "    </tr>\n",
       "    <tr>\n",
       "      <th>MICHAEL JACKSON</th>\n",
       "      <td>1982</td>\n",
       "      <td>THRILLER</td>\n",
       "    </tr>\n",
       "    <tr>\n",
       "      <th>MIKE OLDFIELD</th>\n",
       "      <td>1973</td>\n",
       "      <td>TUBULAR BELLS</td>\n",
       "    </tr>\n",
       "    <tr>\n",
       "      <th>NORAH JONES</th>\n",
       "      <td>2002</td>\n",
       "      <td>COME AWAY WITH ME</td>\n",
       "    </tr>\n",
       "    <tr>\n",
       "      <th>OASIS</th>\n",
       "      <td>1995</td>\n",
       "      <td>WHAT'S THE STORY MORNING GLORY</td>\n",
       "    </tr>\n",
       "    <tr>\n",
       "      <th>ORIGINAL CAST RECORDING</th>\n",
       "      <td>1965</td>\n",
       "      <td>THE SOUND OF MUSIC</td>\n",
       "    </tr>\n",
       "    <tr>\n",
       "      <th>ORIGINAL SOUNDTRACK</th>\n",
       "      <td>1987</td>\n",
       "      <td>DIRTY DANCING</td>\n",
       "    </tr>\n",
       "    <tr>\n",
       "      <th>PAUL SIMON</th>\n",
       "      <td>1986</td>\n",
       "      <td>GRACELAND</td>\n",
       "    </tr>\n",
       "    <tr>\n",
       "      <th>PHIL COLLINS</th>\n",
       "      <td>1989</td>\n",
       "      <td>BUT SERIOUSLY</td>\n",
       "    </tr>\n",
       "    <tr>\n",
       "      <th>PINK FLOYD</th>\n",
       "      <td>1973</td>\n",
       "      <td>THE DARK SIDE OF THE MOON</td>\n",
       "    </tr>\n",
       "    <tr>\n",
       "      <th>QUEEN</th>\n",
       "      <td>1981</td>\n",
       "      <td>GREATEST HITS</td>\n",
       "    </tr>\n",
       "    <tr>\n",
       "      <th>REM</th>\n",
       "      <td>1992</td>\n",
       "      <td>AUTOMATIC FOR THE PEOPLE</td>\n",
       "    </tr>\n",
       "    <tr>\n",
       "      <th>ROBBIE WILLIAMS</th>\n",
       "      <td>1998</td>\n",
       "      <td>I'VE BEEN EXPECTING YOU</td>\n",
       "    </tr>\n",
       "    <tr>\n",
       "      <th>SCISSOR SISTERS</th>\n",
       "      <td>2004</td>\n",
       "      <td>SCISSOR SISTERS</td>\n",
       "    </tr>\n",
       "    <tr>\n",
       "      <th>SHANIA TWAIN</th>\n",
       "      <td>1997</td>\n",
       "      <td>COME ON OVER</td>\n",
       "    </tr>\n",
       "    <tr>\n",
       "      <th>SIMON &amp; GARFUNKEL</th>\n",
       "      <td>1970</td>\n",
       "      <td>BRIDGE OVER TROUBLED WATER</td>\n",
       "    </tr>\n",
       "    <tr>\n",
       "      <th>SIMPLY RED</th>\n",
       "      <td>1991</td>\n",
       "      <td>STARS</td>\n",
       "    </tr>\n",
       "    <tr>\n",
       "      <th>SNOW PATROL</th>\n",
       "      <td>2006</td>\n",
       "      <td>EYES OPEN</td>\n",
       "    </tr>\n",
       "    <tr>\n",
       "      <th>SPICE GIRLS</th>\n",
       "      <td>1996</td>\n",
       "      <td>SPICE</td>\n",
       "    </tr>\n",
       "    <tr>\n",
       "      <th>TAKE THAT</th>\n",
       "      <td>2006</td>\n",
       "      <td>BEAUTIFUL WORLD</td>\n",
       "    </tr>\n",
       "    <tr>\n",
       "      <th>TRACY CHAPMAN</th>\n",
       "      <td>1988</td>\n",
       "      <td>TRACY CHAPMAN</td>\n",
       "    </tr>\n",
       "    <tr>\n",
       "      <th>TRAVIS</th>\n",
       "      <td>1999</td>\n",
       "      <td>THE MAN WHO</td>\n",
       "    </tr>\n",
       "    <tr>\n",
       "      <th>U2</th>\n",
       "      <td>1987</td>\n",
       "      <td>THE JOSHUA TREE</td>\n",
       "    </tr>\n",
       "    <tr>\n",
       "      <th>VERVE</th>\n",
       "      <td>1997</td>\n",
       "      <td>URBAN HYMNS</td>\n",
       "    </tr>\n",
       "  </tbody>\n",
       "</table>\n",
       "</div>"
      ],
      "text/plain": [
       "                           Rok                                 Tytuł\n",
       "Artysta                                                             \n",
       "ABBA                      1992                  GOLD - GREATEST HITS\n",
       "ADELE                     2011                                    21\n",
       "ALANIS MORISSETTE         1995                    JAGGED LITTLE PILL\n",
       "AMY WINEHOUSE             2006                         BACK TO BLACK\n",
       "BEATLES                   1967  SGT PEPPER'S LONELY HEARTS CLUB BAND\n",
       "BOB MARLEY & THE WAILERS  1984                                LEGEND\n",
       "COLDPLAY                  2002           A RUSH OF BLOOD TO THE HEAD\n",
       "CORRS                     1997                       TALK ON CORNERS\n",
       "DAVID GRAY                1998                          WHITE LADDER\n",
       "DIDO                      2000                              NO ANGEL\n",
       "DIRE STRAITS              1985                      BROTHERS IN ARMS\n",
       "ED SHEERAN                2014                                     X\n",
       "EMINEM                    2000               THE MARSHALL MATHERS LP\n",
       "FLEETWOOD MAC             1977                               RUMOURS\n",
       "GEORGE MICHAEL            1998      LADIES & GENTLEMEN - THE BEST OF\n",
       "JAMES BLUNT               2004                        BACK TO BEDLAM\n",
       "JEFF WAYNE                1978                 THE WAR OF THE WORLDS\n",
       "KEANE                     2004                       HOPES AND FEARS\n",
       "KINGS OF LEON             2008                     ONLY BY THE NIGHT\n",
       "LADY GAGA                 2008                              THE FAME\n",
       "LEONA LEWIS               2007                                SPIRIT\n",
       "MADONNA                   1990             THE IMMACULATE COLLECTION\n",
       "MEAT LOAF                 1977                       BAT OUT OF HELL\n",
       "MICHAEL BUBLE             2009                            CRAZY LOVE\n",
       "MICHAEL JACKSON           1982                              THRILLER\n",
       "MIKE OLDFIELD             1973                         TUBULAR BELLS\n",
       "NORAH JONES               2002                     COME AWAY WITH ME\n",
       "OASIS                     1995        WHAT'S THE STORY MORNING GLORY\n",
       "ORIGINAL CAST RECORDING   1965                    THE SOUND OF MUSIC\n",
       "ORIGINAL SOUNDTRACK       1987                         DIRTY DANCING\n",
       "PAUL SIMON                1986                             GRACELAND\n",
       "PHIL COLLINS              1989                         BUT SERIOUSLY\n",
       "PINK FLOYD                1973             THE DARK SIDE OF THE MOON\n",
       "QUEEN                     1981                         GREATEST HITS\n",
       "REM                       1992              AUTOMATIC FOR THE PEOPLE\n",
       "ROBBIE WILLIAMS           1998               I'VE BEEN EXPECTING YOU\n",
       "SCISSOR SISTERS           2004                       SCISSOR SISTERS\n",
       "SHANIA TWAIN              1997                          COME ON OVER\n",
       "SIMON & GARFUNKEL         1970            BRIDGE OVER TROUBLED WATER\n",
       "SIMPLY RED                1991                                 STARS\n",
       "SNOW PATROL               2006                             EYES OPEN\n",
       "SPICE GIRLS               1996                                 SPICE\n",
       "TAKE THAT                 2006                       BEAUTIFUL WORLD\n",
       "TRACY CHAPMAN             1988                         TRACY CHAPMAN\n",
       "TRAVIS                    1999                           THE MAN WHO\n",
       "U2                        1987                       THE JOSHUA TREE\n",
       "VERVE                     1997                           URBAN HYMNS"
      ]
     },
     "execution_count": 67,
     "metadata": {},
     "output_type": "execute_result"
    }
   ],
   "source": [
    "df.groupby('Artysta')['Rok','Tytuł'].first()"
   ]
  },
  {
   "cell_type": "code",
   "execution_count": 68,
   "id": "7df8411f",
   "metadata": {},
   "outputs": [],
   "source": [
    "df.to_csv('artists_list.csv', index=False)"
   ]
  }
 ],
 "metadata": {
  "kernelspec": {
   "display_name": "Python 3 (ipykernel)",
   "language": "python",
   "name": "python3"
  },
  "language_info": {
   "codemirror_mode": {
    "name": "ipython",
    "version": 3
   },
   "file_extension": ".py",
   "mimetype": "text/x-python",
   "name": "python",
   "nbconvert_exporter": "python",
   "pygments_lexer": "ipython3",
   "version": "3.9.12"
  }
 },
 "nbformat": 4,
 "nbformat_minor": 5
}
